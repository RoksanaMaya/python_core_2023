{
 "cells": [
  {
   "cell_type": "code",
   "execution_count": null,
   "metadata": {},
   "outputs": [],
   "source": [
    "import numpy as np\n",
    "\n",
    "#assigning array\n",
    "a=np.array([1,2,3])\n",
    "b=np.array([2,4,6])\n",
    "# calculating a bar\n",
    "a_bar=(np.sum(a))/len(a)\n",
    "# calculating b bar\n",
    "b_bar=(np.sum(b))/len(b)\n",
    "\n",
    "#Calculating numerator\n",
    "numerator=np.sum((a-a_bar)*(b-b_bar))\n",
    "\n",
    "# Calculating the squares\n",
    "square_a=np.sum((a-a_bar)**2)\n",
    "square_b=np.sum((b-b_bar)**2)\n",
    "#Calculating denominators\n",
    "denominators=((square_a*square_b)**(1/2))\n",
    "#Calculating r\n",
    "r=numerator/denominators\n",
    "r"
   ]
  }
 ],
 "metadata": {
  "language_info": {
   "name": "python"
  }
 },
 "nbformat": 4,
 "nbformat_minor": 2
}
